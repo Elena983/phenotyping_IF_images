{
 "cells": [
  {
   "cell_type": "code",
   "execution_count": 121,
   "id": "8876da44-94c1-4b60-8be1-0501832ac0c7",
   "metadata": {},
   "outputs": [],
   "source": [
    "from PIL import Image\n",
    "\n",
    "# Load the TIFF image\n",
    "image = Image.open(\"/Users/melnike/Desktop/CRC.ome.tif\")\n",
    "\n",
    "# Define the tile size (e.g., 100x100 pixels)\n",
    "tile_size = (600, 600)\n",
    "\n",
    "# Define the overlap size (e.g., 20 pixels)\n",
    "overlap = 30\n",
    "\n",
    "# Calculate the effective tile size considering overlap\n",
    "effective_tile_width = tile_size[0] - overlap\n",
    "effective_tile_height = tile_size[1] - overlap\n",
    "\n",
    "# Calculate the number of rows and columns\n",
    "num_rows = (image.height + overlap) // effective_tile_height\n",
    "num_columns = (image.width + overlap) // effective_tile_width\n",
    "\n",
    "# Iterate over the image and crop into overlapping tiles\n",
    "for i in range(num_rows):\n",
    "    for j in range(num_columns):\n",
    "        x1 = j * effective_tile_width\n",
    "        y1 = i * effective_tile_height\n",
    "        x2 = x1 + tile_size[0]\n",
    "        y2 = y1 + tile_size[1]\n",
    "        \n",
    "        if x2 > image.width:\n",
    "            x1 -= (x2 - image.width)\n",
    "            x2 = image.width\n",
    "        if y2 > image.height:\n",
    "            y1 -= (y2 - image.height)\n",
    "            y2 = image.height\n",
    "        \n",
    "        tile = image.crop((x1, y1, x2, y2))\n",
    "        tile.save(f\"/Users/melnike/Desktop/tiles/tile_{i}_{j}.tif\")\n",
    "\n",
    "# Close the original image\n",
    "image.close()"
   ]
  }
 ],
 "metadata": {
  "kernelspec": {
   "display_name": "Python 3 (ipykernel)",
   "language": "python",
   "name": "python3"
  },
  "language_info": {
   "codemirror_mode": {
    "name": "ipython",
    "version": 3
   },
   "file_extension": ".py",
   "mimetype": "text/x-python",
   "name": "python",
   "nbconvert_exporter": "python",
   "pygments_lexer": "ipython3",
   "version": "3.8.0"
  }
 },
 "nbformat": 4,
 "nbformat_minor": 5
}
